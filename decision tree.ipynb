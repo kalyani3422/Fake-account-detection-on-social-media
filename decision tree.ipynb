{
  "cells": [
    {
      "cell_type": "markdown",
      "metadata": {
        "id": "619cH4C7XxU8"
      },
      "source": [
        "\n",
        "# DECISION TREE CLASSIFIER\n",
        "\n",
        "A Decision Tree is a simple classification algorithm in which rules are learned from the training data in the if-else structure. It represents a tree-like structure, where each node is a rule or condition which divides the data set into sub-classes."
      ]
    },
    {
      "cell_type": "code",
      "execution_count": null,
      "metadata": {
        "id": "lHLTEliyXxVC"
      },
      "outputs": [],
      "source": [
        "import pandas as pd\n",
        "from sklearn.tree import DecisionTreeClassifier           # Import Decision Tree Classifier\n",
        "from sklearn.model_selection import train_test_split      # FOR train_test_split function\n",
        "from sklearn.metrics import confusion_matrix, accuracy_score"
      ]
    },
    {
      "cell_type": "markdown",
      "source": [],
      "metadata": {
        "id": "JhZ2OQpvy0fp"
      }
    },
    {
      "cell_type": "code",
      "execution_count": null,
      "metadata": {
        "id": "f_ZkqCPKXxVE",
        "outputId": "df39b60d-5825-4771-8da4-faef344aed2a"
      },
      "outputs": [
        {
          "data": {
            "text/html": [
              "<div>\n",
              "<style scoped>\n",
              "    .dataframe tbody tr th:only-of-type {\n",
              "        vertical-align: middle;\n",
              "    }\n",
              "\n",
              "    .dataframe tbody tr th {\n",
              "        vertical-align: top;\n",
              "    }\n",
              "\n",
              "    .dataframe thead th {\n",
              "        text-align: right;\n",
              "    }\n",
              "</style>\n",
              "<table border=\"1\" class=\"dataframe\">\n",
              "  <thead>\n",
              "    <tr style=\"text-align: right;\">\n",
              "      <th></th>\n",
              "      <th>name_wt</th>\n",
              "      <th>statuses_count</th>\n",
              "      <th>followers_count</th>\n",
              "      <th>friends_count</th>\n",
              "      <th>favourites_count</th>\n",
              "      <th>listed_count</th>\n",
              "      <th>label</th>\n",
              "    </tr>\n",
              "  </thead>\n",
              "  <tbody>\n",
              "    <tr>\n",
              "      <th>0</th>\n",
              "      <td>0.600000</td>\n",
              "      <td>195</td>\n",
              "      <td>19</td>\n",
              "      <td>53</td>\n",
              "      <td>58</td>\n",
              "      <td>0</td>\n",
              "      <td>0</td>\n",
              "    </tr>\n",
              "    <tr>\n",
              "      <th>1</th>\n",
              "      <td>0.705882</td>\n",
              "      <td>9</td>\n",
              "      <td>67</td>\n",
              "      <td>555</td>\n",
              "      <td>2</td>\n",
              "      <td>1</td>\n",
              "      <td>0</td>\n",
              "    </tr>\n",
              "    <tr>\n",
              "      <th>2</th>\n",
              "      <td>0.916667</td>\n",
              "      <td>20</td>\n",
              "      <td>21</td>\n",
              "      <td>267</td>\n",
              "      <td>0</td>\n",
              "      <td>0</td>\n",
              "      <td>1</td>\n",
              "    </tr>\n",
              "    <tr>\n",
              "      <th>3</th>\n",
              "      <td>0.500000</td>\n",
              "      <td>28</td>\n",
              "      <td>16</td>\n",
              "      <td>325</td>\n",
              "      <td>0</td>\n",
              "      <td>0</td>\n",
              "      <td>1</td>\n",
              "    </tr>\n",
              "    <tr>\n",
              "      <th>4</th>\n",
              "      <td>0.733333</td>\n",
              "      <td>45</td>\n",
              "      <td>20</td>\n",
              "      <td>515</td>\n",
              "      <td>0</td>\n",
              "      <td>0</td>\n",
              "      <td>1</td>\n",
              "    </tr>\n",
              "  </tbody>\n",
              "</table>\n",
              "</div>"
            ],
            "text/plain": [
              "    name_wt  statuses_count  followers_count  friends_count  favourites_count  \\\n",
              "0  0.600000             195               19             53                58   \n",
              "1  0.705882               9               67            555                 2   \n",
              "2  0.916667              20               21            267                 0   \n",
              "3  0.500000              28               16            325                 0   \n",
              "4  0.733333              45               20            515                 0   \n",
              "\n",
              "   listed_count  label  \n",
              "0             0      0  \n",
              "1             1      0  \n",
              "2             0      1  \n",
              "3             0      1  \n",
              "4             0      1  "
            ]
          },
          "execution_count": 2,
          "metadata": {},
          "output_type": "execute_result"
        }
      ],
      "source": [
        "dataset = pd.read_csv('data/twitter_dataset.csv', encoding = 'latin-1')\n",
        "dataset.head()"
      ]
    },
    {
      "cell_type": "code",
      "execution_count": null,
      "metadata": {
        "id": "rWaLvtl0XxVF",
        "outputId": "7ec0e5be-67a7-480f-d455-9c52c90883eb"
      },
      "outputs": [
        {
          "data": {
            "text/plain": [
              "['name_wt',\n",
              " 'statuses_count',\n",
              " 'followers_count',\n",
              " 'friends_count',\n",
              " 'favourites_count',\n",
              " 'listed_count']"
            ]
          },
          "execution_count": 3,
          "metadata": {},
          "output_type": "execute_result"
        }
      ],
      "source": [
        "# Independent attributes\n",
        "features=[]\n",
        "for attributes in dataset.columns:\n",
        "    if attributes != 'label':\n",
        "        features.append(attributes)\n",
        "features"
      ]
    },
    {
      "cell_type": "code",
      "execution_count": null,
      "metadata": {
        "id": "TRrrcUdpXxVF"
      },
      "outputs": [],
      "source": [
        "#split dataset in features and target variable\n",
        "X = dataset[features] # Features\n",
        "y = dataset.label # Target variable"
      ]
    },
    {
      "cell_type": "code",
      "execution_count": null,
      "metadata": {
        "id": "ZTCbxc53XxVG"
      },
      "outputs": [],
      "source": [
        "X\n",
        "y"
      ]
    },
    {
      "cell_type": "markdown",
      "metadata": {
        "id": "TTIQyBZMXxVG"
      },
      "source": [
        "## CREATING TEST AND TRAIN SETS\n",
        "\n",
        "We will randomly split our dataset in 80–20 ratio. Where 80% of the total data will be used as training set and rest 20% will be considered as test set."
      ]
    },
    {
      "cell_type": "code",
      "execution_count": null,
      "metadata": {
        "id": "rBPVFFmKXxVH",
        "outputId": "7164cc59-063b-4834-df62-b4cae3a087f1"
      },
      "outputs": [
        {
          "name": "stdout",
          "output_type": "stream",
          "text": [
            "Number of training instances:  2254\n",
            "Number of testing instances:  564\n"
          ]
        }
      ],
      "source": [
        "\n",
        "#     We have X_train, y_train, X_test, y_test.\n",
        "#     Using these lists and dataframes we will randomly create two non-overlapping datasets\n",
        "#         1. training set\n",
        "#         2. testing set\n",
        "\n",
        "\n",
        "X_train, X_test, y_train, y_test = train_test_split(X, y, test_size=0.2, random_state=1) # 80% training and 20% test\n",
        "\n",
        "print(\"Number of training instances: \", X_train.shape[0])\n",
        "print(\"Number of testing instances: \", X_test.shape[0])"
      ]
    },
    {
      "cell_type": "markdown",
      "metadata": {
        "id": "opnwIPlbXxVI"
      },
      "source": [
        "## TRAIN THE CLASSIFIER"
      ]
    },
    {
      "cell_type": "code",
      "execution_count": null,
      "metadata": {
        "id": "g_qvSokEXxVI"
      },
      "outputs": [],
      "source": [
        "# Create Decision Tree classifer object\n",
        "clf = DecisionTreeClassifier(min_impurity_decrease=0.001)\n",
        "\n",
        "# Train Decision Tree Classifer\n",
        "clf = clf.fit(X_train,y_train)"
      ]
    },
    {
      "cell_type": "markdown",
      "metadata": {
        "id": "LIBTHuB0XxVI"
      },
      "source": [
        "## TEST THE CLASSIFIER\n",
        "\n",
        "Now our model is ready. We will test our data against given labels. For every test case, predict the class label"
      ]
    },
    {
      "cell_type": "code",
      "execution_count": null,
      "metadata": {
        "id": "m2OfoXVuXxVJ"
      },
      "outputs": [],
      "source": [
        "#Predict the response for test dataset\n",
        "y_predict = clf.predict(X_test)"
      ]
    },
    {
      "cell_type": "code",
      "execution_count": null,
      "metadata": {
        "id": "rhzBXyThXxVJ",
        "outputId": "d237bd32-e396-45a4-f65a-337f3884f3a9"
      },
      "outputs": [
        {
          "data": {
            "text/plain": [
              "array([0, 0, 0, 1, 0, 0, 0, 0, 0, 1, 1, 0, 0, 1, 1, 0, 1, 1, 0, 1, 0, 0,\n",
              "       0, 0, 0, 1, 0, 1, 1, 1, 1, 0, 1, 1, 0, 1, 0, 0, 0, 0, 0, 1, 1, 0,\n",
              "       1, 1, 0, 0, 1, 0, 1, 0, 1, 0, 1, 1, 0, 0, 1, 0, 0, 1, 0, 1, 1, 0,\n",
              "       1, 1, 0, 1, 0, 0, 1, 1, 1, 0, 1, 0, 1, 1, 1, 1, 0, 1, 0, 0, 1, 1,\n",
              "       0, 1, 1, 0, 1, 1, 1, 0, 0, 1, 0, 0, 0, 1, 1, 0, 1, 0, 0, 0, 1, 1,\n",
              "       1, 1, 0, 0, 1, 0, 0, 1, 0, 1, 1, 0, 0, 1, 1, 1, 0, 1, 1, 1, 0, 1,\n",
              "       0, 0, 0, 1, 0, 0, 1, 1, 0, 1, 0, 0, 1, 0, 0, 1, 0, 1, 1, 0, 0, 1,\n",
              "       0, 0, 0, 1, 1, 0, 1, 0, 1, 1, 0, 0, 1, 1, 0, 1, 0, 0, 1, 1, 0, 1,\n",
              "       1, 1, 1, 0, 1, 0, 1, 1, 0, 1, 0, 1, 1, 1, 0, 0, 1, 0, 1, 0, 0, 0,\n",
              "       0, 0, 0, 0, 0, 1, 1, 1, 0, 0, 1, 1, 0, 1, 0, 1, 1, 1, 1, 0, 0, 1,\n",
              "       1, 1, 1, 0, 0, 1, 1, 1, 1, 1, 1, 0, 1, 0, 0, 1, 1, 1, 0, 1, 0, 0,\n",
              "       0, 1, 1, 1, 0, 0, 0, 0, 0, 0, 0, 0, 0, 0, 1, 0, 0, 1, 0, 0, 0, 0,\n",
              "       0, 0, 1, 0, 0, 0, 0, 0, 1, 0, 0, 1, 1, 0, 0, 1, 0, 1, 0, 1, 0, 1,\n",
              "       1, 0, 1, 0, 1, 0, 0, 0, 0, 0, 0, 1, 1, 0, 1, 1, 0, 0, 0, 0, 0, 0,\n",
              "       0, 0, 0, 1, 0, 1, 1, 0, 1, 1, 0, 1, 0, 0, 0, 0, 1, 0, 0, 0, 1, 1,\n",
              "       0, 1, 0, 1, 0, 0, 1, 0, 0, 1, 1, 0, 1, 0, 0, 0, 0, 0, 1, 0, 0, 1,\n",
              "       1, 0, 0, 0, 0, 1, 0, 1, 0, 0, 1, 1, 0, 0, 1, 1, 0, 0, 1, 0, 1, 0,\n",
              "       1, 1, 1, 0, 0, 0, 1, 1, 1, 0, 0, 0, 0, 0, 1, 1, 0, 1, 1, 0, 1, 0,\n",
              "       1, 1, 1, 1, 0, 0, 0, 0, 1, 1, 0, 0, 0, 1, 0, 0, 0, 0, 0, 0, 0, 0,\n",
              "       1, 0, 1, 0, 0, 1, 0, 0, 0, 1, 0, 1, 0, 0, 1, 0, 0, 1, 1, 0, 0, 1,\n",
              "       1, 1, 0, 1, 0, 1, 0, 0, 0, 0, 1, 1, 1, 1, 0, 0, 0, 1, 0, 0, 0, 1,\n",
              "       0, 1, 0, 1, 1, 1, 1, 0, 0, 1, 0, 1, 0, 0, 0, 0, 1, 0, 0, 1, 1, 1,\n",
              "       0, 0, 0, 0, 0, 0, 0, 0, 1, 0, 0, 1, 1, 1, 0, 1, 1, 0, 0, 1, 0, 0,\n",
              "       0, 0, 0, 1, 0, 1, 1, 0, 1, 0, 1, 1, 0, 0, 1, 1, 0, 0, 1, 1, 1, 0,\n",
              "       1, 1, 0, 0, 1, 0, 0, 0, 0, 0, 0, 0, 1, 1, 0, 1, 0, 0, 0, 0, 1, 0,\n",
              "       0, 0, 1, 1, 0, 1, 0, 0, 0, 1, 0, 0, 1, 0])"
            ]
          },
          "execution_count": 14,
          "metadata": {},
          "output_type": "execute_result"
        }
      ],
      "source": [
        "y_predict"
      ]
    },
    {
      "cell_type": "markdown",
      "metadata": {
        "id": "jNA9G4cAXxVK"
      },
      "source": [
        "## EVALUATION OF CLASSIFICATION RESULTS\n",
        "\n",
        "The classifier will be evaluted using Accuracy, Recall, Precision and F-measure. For this first, a confusion matrix will be created."
      ]
    },
    {
      "cell_type": "code",
      "execution_count": null,
      "metadata": {
        "id": "I_6eFfUfXxVK"
      },
      "outputs": [],
      "source": [
        "#true negatives is C(0,0), false negatives is C(1,0), false positives is C(0,1) and true positives is C(1,1)\n",
        "conf_matrix = confusion_matrix(y_test, y_predict)"
      ]
    },
    {
      "cell_type": "code",
      "execution_count": null,
      "metadata": {
        "id": "D161VSlYXxVK"
      },
      "outputs": [],
      "source": [
        "#true_negative\n",
        "TN = conf_matrix[0][0]\n",
        "#false_negative\n",
        "FN = conf_matrix[1][0]\n",
        "#false_positive\n",
        "FP = conf_matrix[0][1]\n",
        "#true_positive\n",
        "TP = conf_matrix[1][1]"
      ]
    },
    {
      "cell_type": "code",
      "execution_count": null,
      "metadata": {
        "id": "tSKbNyIDXxVK"
      },
      "outputs": [],
      "source": [
        "# Recall is the ratio of the total number of correctly classified positive examples divided by the total number of positive examples.\n",
        "# High Recall indicates the class is correctly recognized (small number of FN)\n",
        "\n",
        "recall = (TP)/(TP + FN)"
      ]
    },
    {
      "cell_type": "code",
      "execution_count": null,
      "metadata": {
        "id": "4rd-GMJCXxVN"
      },
      "outputs": [],
      "source": [
        "# Precision is the the total number of correctly classified positive examples divided by the total number of predicted positive examples.\n",
        "# High Precision indicates an example labeled as positive is indeed positive (small number of FP)\n",
        "\n",
        "precision = (TP)/(TP + FP)"
      ]
    },
    {
      "cell_type": "code",
      "execution_count": null,
      "metadata": {
        "id": "geP4ROYqXxVN",
        "outputId": "bc60e069-e79d-48af-9523-8dd5147adde9"
      },
      "outputs": [
        {
          "data": {
            "text/plain": [
              "0.9875886524822695"
            ]
          },
          "execution_count": 19,
          "metadata": {},
          "output_type": "execute_result"
        }
      ],
      "source": [
        "fmeasure = (2*recall*precision)/(recall+precision)\n",
        "accuracy = (TP + TN)/(TN + FN + FP + TP)\n",
        "accuracy_score(y_test, y_predict)"
      ]
    },
    {
      "cell_type": "code",
      "execution_count": null,
      "metadata": {
        "id": "q6rgySuPXxVN",
        "outputId": "49da6192-45f9-48e5-ea05-54219f9f5d5b"
      },
      "outputs": [
        {
          "name": "stdout",
          "output_type": "stream",
          "text": [
            "------ CLASSIFICATION PERFORMANCE OF DECISION TREE MODEL ------ \n",
            "\n",
            " Recall :  97.25490196078431 %\n",
            " Precision :  100.0 %\n",
            " Accuracy :  98.75886524822694 %\n",
            " F-measure :  98.60834990059641 %\n"
          ]
        }
      ],
      "source": [
        "print(\"------ CLASSIFICATION PERFORMANCE OF DECISION TREE MODEL ------ \\n\"\\\n",
        "      \"\\n Recall : \", (recall*100) ,\"%\" \\\n",
        "      \"\\n Precision : \", (precision*100) ,\"%\" \\\n",
        "      \"\\n Accuracy : \", (accuracy*100) ,\"%\" \\\n",
        "      \"\\n F-measure : \", (fmeasure*100) ,\"%\" )\n"
      ]
    }
  ],
  "metadata": {
    "kernelspec": {
      "display_name": "Python 3",
      "language": "python",
      "name": "python3"
    },
    "language_info": {
      "codemirror_mode": {
        "name": "ipython",
        "version": 3
      },
      "file_extension": ".py",
      "mimetype": "text/x-python",
      "name": "python",
      "nbconvert_exporter": "python",
      "pygments_lexer": "ipython3",
      "version": "3.8.8"
    },
    "colab": {
      "provenance": []
    }
  },
  "nbformat": 4,
  "nbformat_minor": 0
}